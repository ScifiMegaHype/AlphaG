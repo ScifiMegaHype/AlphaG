{
 "cells": [
  {
   "cell_type": "code",
   "execution_count": null,
   "id": "7df10e72",
   "metadata": {},
   "outputs": [],
   "source": [
    "class Goal():\n",
    "    def __init__(self, scorer: str, number_of_goals: int, team_ranking: int, opponent_ranking: int, last_ranking: int):\n",
    "        self.scorer = scorer\n",
    "        self.number_of_goals = number_of_goals\n",
    "        self.team_ranking = team_ranking\n",
    "        self.opponent_ranking = opponent_ranking\n",
    "        self.last_ranking = last_ranking\n",
    "\n",
    "    def alphaG(self):\n",
    "        return self.number_of_goals * (1 + (self.team_ranking/self.last_ranking) - (self.opponent_ranking/self.last_ranking))\n",
    "        "
   ]
  },
  {
   "cell_type": "code",
   "execution_count": 27,
   "id": "4be68e3d",
   "metadata": {},
   "outputs": [],
   "source": [
    "goals = [\n",
    "    Goal('Harry Kane', 4, 3, 38, 427), Goal('Harry Kane', 1, 3, 70, 427), Goal('Harry Kane', 1, 3, 15, 427),\n",
    "    Goal('Robert Lewandowski', 2, 15, 61, 427), Goal('Robert Lewandowski', 1, 15, 3, 427)\n",
    "]"
   ]
  },
  {
   "cell_type": "code",
   "execution_count": null,
   "id": "89759172",
   "metadata": {},
   "outputs": [
    {
     "name": "stdout",
     "output_type": "stream",
     "text": [
      "3.6721311475409837\n",
      "0.8430913348946136\n",
      "0.9718969555035128\n",
      "Harry Kane's total_alphaG is 5.49\n"
     ]
    }
   ],
   "source": [
    "focus_player = 'Harry Kane'\n",
    "\n",
    "total_alphaG = 0.0\n",
    "for goal in goals:\n",
    "    if goal.scorer==focus_player:\n",
    "        alphaG = goal.alphaG()\n",
    "        print(alphaG) \n",
    "        total_alphaG += alphaG\n",
    "\n",
    "print(f'{focus_player}\\'s total_alphaG is {total_alphaG:.2f} with {len(goals)} goals')"
   ]
  },
  {
   "cell_type": "code",
   "execution_count": null,
   "id": "260736db",
   "metadata": {},
   "outputs": [],
   "source": []
  }
 ],
 "metadata": {
  "kernelspec": {
   "display_name": "Python 3 (ipykernel)",
   "language": "python",
   "name": "python3"
  },
  "language_info": {
   "codemirror_mode": {
    "name": "ipython",
    "version": 3
   },
   "file_extension": ".py",
   "mimetype": "text/x-python",
   "name": "python",
   "nbconvert_exporter": "python",
   "pygments_lexer": "ipython3",
   "version": "3.9.7"
  }
 },
 "nbformat": 4,
 "nbformat_minor": 5
}
